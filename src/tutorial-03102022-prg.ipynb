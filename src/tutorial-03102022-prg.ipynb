{
 "cells": [
  {
   "cell_type": "markdown",
   "metadata": {},
   "source": [
    "# NPRG030 Programming 1 – Tutorial 3.10.2022\n",
    "\n",
    "Tomáš Bílý\n",
    "- tomby (at) kam.mff.cuni.cz\n",
    "- https://github.com/tomby42/prg-mff-en.git\n",
    "\n",
    "To pass this class, you must fulfill the following requirements by Friday, February 12, 2023 at the end of the exam period:\n",
    "\n",
    "- Complete a number of programming exercises through the semester. The tutorial teachers will assign these exercises weekly, and you can submit your solutions to the ReCodEx automated grading system. To pass, you will need to earn at least __70%__ of the total possible points. Any points that you earn over __85%__ (up to a maximum of __15%__) will be applied as bonus points to your test score when you take the test.\n",
    "\n",
    "- Pass a written test at the end of the semester.\n",
    "\n",
    "- Write a program in Python as a semester project. Your program should accomplish something that is interesting, cool, or fun and can be 100-300 lines long, or longer if you like. Please send your tutorial teacher a 1-2 paragraph project proposal by __Sunday, December 4__. A first working version of your project is due by __Sunday, January 22__ and a final version by __Sunday, January 29__.\n",
    "\n",
    "- Regularly attend the lectures and tutorials and participate in class."
   ]
  },
  {
   "cell_type": "code",
   "execution_count": 12,
   "metadata": {},
   "outputs": [],
   "source": [
    "import numpy as np\n",
    "import matplotlib.pyplot as plt\n",
    "import math"
   ]
  },
  {
   "cell_type": "code",
   "execution_count": null,
   "metadata": {},
   "outputs": [],
   "source": [
    "# very simple syntax\n",
    "\n",
    "from re import X\n",
    "from tkinter import Y\n",
    "\n",
    "\n",
    "x_1 = 1\n",
    "x_2 = 2\n",
    "x_sum = x_1 + x_2\n",
    "x_mult = 3 * 4\n",
    "x_sub = 4 - 3\n",
    "x_div = 4 / 3\n",
    "x_mod = 4 % 3\n",
    "x_div_int = 4 // 3\n",
    "x_exp = 2 ** 3\n",
    "x_log10 = math.log10(10)\n",
    "x_float = 1.2e-10\n",
    "\n",
    "# 32-bit -2^31 do 2^31 - 1\n",
    "\n",
    "x_str = \"halo, tady rucnik\" \n",
    "x_str1 = 'ahoj'\n",
    "x_str2 = \"\"\"\n",
    "dlsfkjlkdsfjd\n",
    "\"\"\"\n",
    "x_str_cat = x_str + \" volam mydlo\"\n",
    "\n",
    "x_parse_int = int(\"10\")\n",
    "x_parse_float = float(\"10.1\")\n",
    "\n",
    "# function_name(param1, param2, ....)\n",
    "\n",
    "False\n",
    "True\n",
    "\n",
    "if condition:\n",
    "    #  block of code - True branch\n",
    "else:\n",
    "    #  block of code - False branch\n",
    "\n",
    "while i < 10: # condition\n",
    "    # block of code"
   ]
  },
  {
   "cell_type": "code",
   "execution_count": 2,
   "metadata": {},
   "outputs": [
    {
     "data": {
      "text/plain": [
       "'halo, tady rucnik volam mydlo'"
      ]
     },
     "execution_count": 2,
     "metadata": {},
     "output_type": "execute_result"
    }
   ],
   "source": [
    "x_str = \"halo, tady rucnik\"\n",
    "x_str_cat = x_str + \" volam mydlo\"\n",
    "x_str_cat"
   ]
  },
  {
   "cell_type": "code",
   "execution_count": 3,
   "metadata": {},
   "outputs": [
    {
     "ename": "ValueError",
     "evalue": "invalid literal for int() with base 10: 'aa'",
     "output_type": "error",
     "traceback": [
      "\u001b[0;31m---------------------------------------------------------------------------\u001b[0m",
      "\u001b[0;31mValueError\u001b[0m                                Traceback (most recent call last)",
      "\u001b[1;32m/home/tomby/pracicka/teaching/mff/prg-mff-en/src/tutorial-03102022-prg.ipynb Cell 5\u001b[0m in \u001b[0;36m<cell line: 1>\u001b[0;34m()\u001b[0m\n\u001b[0;32m----> <a href='vscode-notebook-cell:/home/tomby/pracicka/teaching/mff/prg-mff-en/src/tutorial-03102022-prg.ipynb#X13sZmlsZQ%3D%3D?line=0'>1</a>\u001b[0m \u001b[39mint\u001b[39;49m(\u001b[39m\"\u001b[39;49m\u001b[39maa\u001b[39;49m\u001b[39m\"\u001b[39;49m)\n",
      "\u001b[0;31mValueError\u001b[0m: invalid literal for int() with base 10: 'aa'"
     ]
    }
   ],
   "source": [
    "int(\"aa\")"
   ]
  },
  {
   "cell_type": "code",
   "execution_count": 5,
   "metadata": {},
   "outputs": [
    {
     "data": {
      "text/plain": [
       "False"
      ]
     },
     "execution_count": 5,
     "metadata": {},
     "output_type": "execute_result"
    }
   ],
   "source": [
    "1>2"
   ]
  },
  {
   "cell_type": "code",
   "execution_count": 6,
   "metadata": {},
   "outputs": [
    {
     "name": "stdout",
     "output_type": "stream",
     "text": [
      "area of rectangle 10 by 5 is 50\n"
     ]
    }
   ],
   "source": [
    "# rectangle area\n",
    "\n",
    "x = int(input(\"width\"))\n",
    "y = int(input(\"height\"))\n",
    "print(f\"area of rectangle {x} by {y} is {x*y}\")"
   ]
  },
  {
   "cell_type": "code",
   "execution_count": 7,
   "metadata": {},
   "outputs": [
    {
     "name": "stdout",
     "output_type": "stream",
     "text": [
      "factorial of 4 is 24\n"
     ]
    }
   ],
   "source": [
    "# faktorial\n",
    "n = int(input(\"number\"))\n",
    "\n",
    "f = 1\n",
    "j = n\n",
    "while j > 1:\n",
    "    f *= j # f = f * j\n",
    "    j -= 1 # j = j- 1\n",
    "\n",
    "print(f\"factorial of {n} is {f}\")"
   ]
  },
  {
   "cell_type": "code",
   "execution_count": 8,
   "metadata": {},
   "outputs": [
    {
     "name": "stdout",
     "output_type": "stream",
     "text": [
      "6\n"
     ]
    }
   ],
   "source": [
    "# Sum of digits in decadic number system\n",
    "# 123 -> 1+2+3 -> 6\n",
    "\n",
    "n = int(input())\n",
    "s = 0\n",
    "\n",
    "while n > 0:\n",
    "    c = n % 10\n",
    "    s += c\n",
    "    n = n // 10\n",
    "\n",
    "print(s)"
   ]
  },
  {
   "cell_type": "code",
   "execution_count": 9,
   "metadata": {},
   "outputs": [
    {
     "name": "stdout",
     "output_type": "stream",
     "text": [
      "6\n"
     ]
    }
   ],
   "source": [
    "# sum of numbers\n",
    "\n",
    "s = 0\n",
    "while True:\n",
    "    n = input(\"number or . for end\")\n",
    "    if n == '.':\n",
    "        break\n",
    "    s += int(n)\n",
    "\n",
    "print(s)"
   ]
  },
  {
   "cell_type": "markdown",
   "metadata": {},
   "source": [
    "* Read a radius of a circle from the input and print the size of its area on the output\n",
    "* Read numbers from the input until the character `.` is entered and print the average of the digits on the output\n",
    "* Read a number from the input and write `yes` on the output if it is a power of two or `no` otherwise\n",
    "* Read the number `n` from the input and write out on the output the first `n` numbers from the fibbonachi series. f_i = f_(i-1) + f_(i-2), f_1 = 0, f_2 = 1 \n",
    "* Read a number from the input and print its binary, decimal, and hexadecimal notation\n",
    "* Calculate the supernumber of the specified positive number from the input.\n",
    "  - sn(n) = n if n < 10,\n",
    "  - sn(n) = sn(sum of digits in decimal notation of n) # ex. sn(123) = sn(1+2+3)"
   ]
  },
  {
   "cell_type": "code",
   "execution_count": 10,
   "metadata": {},
   "outputs": [
    {
     "data": {
      "text/plain": [
       "3.141592653589793"
      ]
     },
     "execution_count": 10,
     "metadata": {},
     "output_type": "execute_result"
    }
   ],
   "source": [
    "import math\n"
   ]
  },
  {
   "cell_type": "code",
   "execution_count": null,
   "metadata": {},
   "outputs": [],
   "source": []
  }
 ],
 "metadata": {
  "kernelspec": {
   "display_name": "Python 3.8.13 ('base')",
   "language": "python",
   "name": "python3"
  },
  "language_info": {
   "codemirror_mode": {
    "name": "ipython",
    "version": 3
   },
   "file_extension": ".py",
   "mimetype": "text/x-python",
   "name": "python",
   "nbconvert_exporter": "python",
   "pygments_lexer": "ipython3",
   "version": "3.8.13"
  },
  "orig_nbformat": 4,
  "vscode": {
   "interpreter": {
    "hash": "c2682ce602ceea6b01d4b38db753e69167a6e871ea179ae3ffb59c5ec74143fe"
   }
  }
 },
 "nbformat": 4,
 "nbformat_minor": 2
}
