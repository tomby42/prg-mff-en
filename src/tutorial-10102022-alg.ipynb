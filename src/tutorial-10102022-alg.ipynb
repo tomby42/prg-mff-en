{
 "cells": [
  {
   "cell_type": "markdown",
   "metadata": {},
   "source": [
    "# NPRG062 Introduction to Algorithms – Tutorial - 10.10.2022\n"
   ]
  },
  {
   "cell_type": "markdown",
   "metadata": {},
   "source": [
    "Problems:\n",
    "\n",
    "You have given a two-arm balance scale and 8 identical looking balls. One of the ball is heavier than rest of the 7 balls, which all are of equal weight. You have to find out the heavier ball by using two arm balance scale a minimum number of times.\n",
    "\n",
    "You have given a two-arm balance scale and n identical looking balls. One of the ball is heavier than rest of the n-1 balls, which all are of equal weight. You have to find out the heavier ball by using two arm balance scale a minimum number of times."
   ]
  },
  {
   "cell_type": "markdown",
   "metadata": {},
   "source": [
    "You have given a two-arm balance scale and n balls with different weights.Design an algorithm that finds\n",
    "- the heaviest ball for the least number of weighings\n",
    "- the heaviest ball and the lightest ball"
   ]
  }
 ],
 "metadata": {
  "kernelspec": {
   "display_name": "Python 3.8.10 64-bit",
   "language": "python",
   "name": "python3"
  },
  "language_info": {
   "name": "python",
   "version": "3.8.10"
  },
  "orig_nbformat": 4,
  "vscode": {
   "interpreter": {
    "hash": "916dbcbb3f70747c44a77c7bcd40155683ae19c65e1c03b4aa3499c5328201f1"
   }
  }
 },
 "nbformat": 4,
 "nbformat_minor": 2
}
