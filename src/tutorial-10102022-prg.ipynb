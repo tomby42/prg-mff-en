{
 "cells": [
  {
   "cell_type": "markdown",
   "metadata": {},
   "source": [
    "# NPRG030 Programming 1 – Tutorial 10.10.2022\n"
   ]
  },
  {
   "cell_type": "code",
   "execution_count": 2,
   "metadata": {},
   "outputs": [
    {
     "name": "stdout",
     "output_type": "stream",
     "text": [
      "Area is: 3.141592653589793\n"
     ]
    }
   ],
   "source": [
    "# Read a radius of a circle from the input and print the size of its area on the output\n",
    "\n",
    "import math\n",
    "\n",
    "radius = int(input(\"Enter radius:\"))\n",
    "area = math.pi*radius*radius\n",
    "print(\"Area is:\", area)"
   ]
  },
  {
   "cell_type": "code",
   "execution_count": 5,
   "metadata": {},
   "outputs": [
    {
     "name": "stdout",
     "output_type": "stream",
     "text": [
      "2.0\n"
     ]
    }
   ],
   "source": [
    "# Read numbers from the input until the character `.` is entered and print the average of the digits on the output\n",
    "\n",
    "s = 0\n",
    "p = 0\n",
    "\n",
    "while True:\n",
    "    n = input()\n",
    "    if n == \".\":\n",
    "        break\n",
    "    s += int(n)\n",
    "    p += 1\n",
    "\n",
    "print(s/p)"
   ]
  },
  {
   "cell_type": "code",
   "execution_count": 13,
   "metadata": {},
   "outputs": [
    {
     "name": "stdout",
     "output_type": "stream",
     "text": [
      "no\n",
      "no\n"
     ]
    }
   ],
   "source": [
    "# Read a number from the input and write `yes` on the output if it is a power of two or `no` otherwise\n",
    "\n",
    "n = int(input())\n",
    "if math.log2(n) == int(math.log2(n)):\n",
    "    print(\"yes\")\n",
    "else:\n",
    "    print(\"no\")\n",
    "\n",
    "# Solution 2\n",
    "\n",
    "n = int(input())\n",
    "if math.log2(n) % 1 == 0:\n",
    "    print(\"yes\")\n",
    "else:\n",
    "    print(\"no\")\n"
   ]
  },
  {
   "cell_type": "code",
   "execution_count": 16,
   "metadata": {},
   "outputs": [
    {
     "name": "stdout",
     "output_type": "stream",
     "text": [
      "0\n",
      "1\n",
      "1\n",
      "2\n",
      "3\n",
      "5\n",
      "8\n",
      "13\n",
      "21\n",
      "34\n"
     ]
    }
   ],
   "source": [
    "# Read the number `n` from the input and write out on the output the first `n` numbers from the fibbonachi series. f_i = f_(i-1) + f_(i-2), f_1 = 0, f_2 = 1 \n",
    "# 0,1,1,2,3,5,....\n",
    "\n",
    "n = int(input())\n",
    "\n",
    "a = 0\n",
    "b = 1\n",
    "\n",
    "while n != 0:\n",
    "    print(a)\n",
    "    a,b = a+b,a\n",
    "    n -= 1\n"
   ]
  },
  {
   "cell_type": "code",
   "execution_count": 3,
   "metadata": {},
   "outputs": [
    {
     "name": "stdout",
     "output_type": "stream",
     "text": [
      "binary: 10100\n",
      "decimal: 20\n",
      "hexadecimal: 14\n",
      "0b10100\n",
      "20\n",
      "0x14\n"
     ]
    }
   ],
   "source": [
    "# Read a number from the input and print its binary, decimal, and hexadecimal notation\n",
    "\n",
    "n = int(input())\n",
    "\n",
    "s_bin = \"\"\n",
    "s_hex = \"\"\n",
    "\n",
    "k = n\n",
    "x = n\n",
    "\n",
    "# to binary\n",
    "while k > 0:\n",
    "    s_bin = str(k%2) + s_bin\n",
    "    k //= 2\n",
    "\n",
    "# to hex\n",
    "while x > 0:\n",
    "    t = x % 16\n",
    "    if 0 <= t < 10:\n",
    "        s_hex = str(t) + s_hex\n",
    "    else:\n",
    "        s_hex = chr(t - 10 + ord(\"a\")) + s_hex\n",
    "    x //=16\n",
    "\n",
    "print(\"binary:\", s_bin)\n",
    "print(\"decimal:\", n)\n",
    "print(\"hexadecimal:\", s_hex)\n",
    "\n",
    "\n",
    "print(bin(n))\n",
    "print(n)\n",
    "print(hex(n))"
   ]
  },
  {
   "cell_type": "code",
   "execution_count": 18,
   "metadata": {},
   "outputs": [
    {
     "data": {
      "text/plain": [
       "'0xa'"
      ]
     },
     "execution_count": 18,
     "metadata": {},
     "output_type": "execute_result"
    }
   ],
   "source": [
    "hex(10)"
   ]
  },
  {
   "cell_type": "code",
   "execution_count": 23,
   "metadata": {},
   "outputs": [
    {
     "name": "stdout",
     "output_type": "stream",
     "text": [
      "supernumber: 6\n"
     ]
    }
   ],
   "source": [
    "# Calculate the supernumber of the specified positive number from the input.\n",
    "#  - sn(n) = n if n < 10,\n",
    "#  - sn(n) = sn(sum of digits in decimal notation of n) # ex. sn(999) = sn(9+9+9) = sn(27) = sn(2+7) = sn(9) = 9\n",
    "\n",
    "n = int(input())\n",
    "\n",
    "while n >= 10:\n",
    "    s = 0\n",
    "    k = n\n",
    "    while k > 0:\n",
    "        s += k % 10\n",
    "        k //= 10\n",
    "    n = s\n",
    "\n",
    "print(\"supernumber:\", n)    "
   ]
  },
  {
   "cell_type": "markdown",
   "metadata": {},
   "source": [
    "__1__\n",
    "\n",
    "You're given an integer n and an integer k (read from input). There is an integer p that is k instances of the digits of n concatenated together. For example:\n",
    "\n",
    "n=123, k=3 -> p=123123123\n",
    "\n",
    "n=32, k=6 -> p=323232323232\n",
    "\n",
    "n=24543, k=125 -> p=245432454324543245432454324543...\n",
    "\n",
    "Now, take that number p and find its superdigit. The superdigit is defined as follows:\n",
    "\n",
    "* superdigit(d) = d                             if # of digits = 1\n",
    "* superdigit(d) = superdigit(sum(digits of d))  otherwise\n",
    "\n",
    "That is, if the number has one digit, the superdigit is the number. (Example: superdigit(4)=4). Otherwise, sum the digits and take the superdigit of the result. (Example: superdigit(23)=superdigit(2+3)=5).\n",
    "\n",
    "Your task is to write a program that calculates the superdigit of n and k. Print it on output.\n",
    "\n",
    "Notes:\n",
    "\n",
    "Your answer should always be a single digit.\n",
    "Be sure that it works with very large strings of digits, such as with n>10^20, k>10^9."
   ]
  },
  {
   "cell_type": "code",
   "execution_count": 25,
   "metadata": {},
   "outputs": [
    {
     "name": "stdout",
     "output_type": "stream",
     "text": [
      "2\n"
     ]
    }
   ],
   "source": [
    "n = input()\n",
    "k = int(input())\n",
    "\n",
    "p = int(k*n)\n",
    "\n",
    "while p >= 10:\n",
    "    s = 0\n",
    "    l = p\n",
    "    while l > 0:\n",
    "        s += l % 10\n",
    "        l //= 10\n",
    "    p = s\n",
    "\n",
    "print(p) # 23232323 -> 20 -> 2"
   ]
  },
  {
   "cell_type": "markdown",
   "metadata": {},
   "source": []
  }
 ],
 "metadata": {
  "kernelspec": {
   "display_name": "Python 3.8.13 ('base')",
   "language": "python",
   "name": "python3"
  },
  "language_info": {
   "codemirror_mode": {
    "name": "ipython",
    "version": 3
   },
   "file_extension": ".py",
   "mimetype": "text/x-python",
   "name": "python",
   "nbconvert_exporter": "python",
   "pygments_lexer": "ipython3",
   "version": "3.8.13"
  },
  "orig_nbformat": 4,
  "vscode": {
   "interpreter": {
    "hash": "c2682ce602ceea6b01d4b38db753e69167a6e871ea179ae3ffb59c5ec74143fe"
   }
  }
 },
 "nbformat": 4,
 "nbformat_minor": 2
}
